{
  "nbformat": 4,
  "nbformat_minor": 0,
  "metadata": {
    "colab": {
      "name": "RL.Nada Ashraf",
      "provenance": [],
      "collapsed_sections": []
    },
    "kernelspec": {
      "name": "python3",
      "display_name": "Python 3"
    },
    "language_info": {
      "name": "python"
    }
  },
  "cells": [
    {
      "cell_type": "markdown",
      "source": [
        ""
      ],
      "metadata": {
        "id": "92aJ0KoguLAl"
      }
    },
    {
      "cell_type": "markdown",
      "source": [
        "Import Library \n"
      ],
      "metadata": {
        "id": "Ex6BZZgzRZ5O"
      }
    },
    {
      "cell_type": "code",
      "source": [
        "!pip install cmake 'gym[atari]' scipy\n"
      ],
      "metadata": {
        "colab": {
          "base_uri": "https://localhost:8080/"
        },
        "id": "cqTHe1QWuP7x",
        "outputId": "a28729a3-6ac8-48ba-f60c-9b002f742382"
      },
      "execution_count": 85,
      "outputs": [
        {
          "output_type": "stream",
          "name": "stdout",
          "text": [
            "Looking in indexes: https://pypi.org/simple, https://us-python.pkg.dev/colab-wheels/public/simple/\n",
            "Requirement already satisfied: cmake in /usr/local/lib/python3.7/dist-packages (3.22.4)\n",
            "Requirement already satisfied: gym[atari] in /usr/local/lib/python3.7/dist-packages (0.17.3)\n",
            "Requirement already satisfied: scipy in /usr/local/lib/python3.7/dist-packages (1.4.1)\n",
            "Requirement already satisfied: numpy>=1.13.3 in /usr/local/lib/python3.7/dist-packages (from scipy) (1.21.6)\n",
            "Requirement already satisfied: cloudpickle<1.7.0,>=1.2.0 in /usr/local/lib/python3.7/dist-packages (from gym[atari]) (1.3.0)\n",
            "Requirement already satisfied: pyglet<=1.5.0,>=1.4.0 in /usr/local/lib/python3.7/dist-packages (from gym[atari]) (1.5.0)\n",
            "Requirement already satisfied: Pillow in /usr/local/lib/python3.7/dist-packages (from gym[atari]) (7.1.2)\n",
            "Requirement already satisfied: opencv-python in /usr/local/lib/python3.7/dist-packages (from gym[atari]) (4.1.2.30)\n",
            "Requirement already satisfied: atari-py~=0.2.0 in /usr/local/lib/python3.7/dist-packages (from gym[atari]) (0.2.9)\n",
            "Requirement already satisfied: six in /usr/local/lib/python3.7/dist-packages (from atari-py~=0.2.0->gym[atari]) (1.15.0)\n",
            "Requirement already satisfied: future in /usr/local/lib/python3.7/dist-packages (from pyglet<=1.5.0,>=1.4.0->gym[atari]) (0.16.0)\n"
          ]
        }
      ]
    },
    {
      "cell_type": "code",
      "source": [
        "import gym\n",
        "from IPython.display import clear_output\n",
        "from time import sleep\n",
        "import random\n",
        "from IPython.display import clear_output\n",
        "import numpy as np\n",
        "from IPython.display import clear_output\n",
        "from time import sleep"
      ],
      "metadata": {
        "id": "ILFi_51_RfMV"
      },
      "execution_count": 86,
      "outputs": []
    },
    {
      "cell_type": "markdown",
      "source": [
        "environment\n"
      ],
      "metadata": {
        "id": "KNBj_M-hRxgn"
      }
    },
    {
      "cell_type": "code",
      "source": [
        "def env_def(env_name):\n",
        "  env=gym.make(env_name).env\n",
        "  env.reset() # reset environment to a new, random state\n",
        "  env.render()\n",
        "  print(\"Action Space {}\".format(env.action_space))\n",
        "  print(\"State Space {}\".format(env.observation_space))\n",
        "  return env\n"
      ],
      "metadata": {
        "id": "EQ2kFKRQSd_3"
      },
      "execution_count": 87,
      "outputs": []
    },
    {
      "cell_type": "code",
      "source": [
        "env_def('Taxi-v3')"
      ],
      "metadata": {
        "colab": {
          "base_uri": "https://localhost:8080/"
        },
        "id": "XCuv8WMadsXx",
        "outputId": "af3d7ed1-8551-4d82-a277-cd43d4e23622"
      },
      "execution_count": 88,
      "outputs": [
        {
          "output_type": "stream",
          "name": "stdout",
          "text": [
            "+---------+\n",
            "|\u001b[35mR\u001b[0m: | : :G|\n",
            "| : | : : |\n",
            "| : : : : |\n",
            "| | : | : |\n",
            "|Y| : |\u001b[34;1mB\u001b[0m:\u001b[43m \u001b[0m|\n",
            "+---------+\n",
            "\n",
            "Action Space Discrete(6)\n",
            "State Space Discrete(500)\n"
          ]
        },
        {
          "output_type": "execute_result",
          "data": {
            "text/plain": [
              "<gym.envs.toy_text.taxi.TaxiEnv at 0x7f3d7f1c3590>"
            ]
          },
          "metadata": {},
          "execution_count": 88
        }
      ]
    },
    {
      "cell_type": "markdown",
      "source": [
        "Brute FOREC"
      ],
      "metadata": {
        "id": "X-f8s9qi9WVa"
      }
    },
    {
      "cell_type": "code",
      "source": [
        "def BrouteForce(env):\n",
        "  env.s = 328  # set environment to illustration's state\n",
        "\n",
        "  epochs = 0\n",
        "  penalties, rewards = 0, 0\n",
        "\n",
        "  frames = [] # for animation\n",
        "\n",
        "  done = False\n",
        "\n",
        "  while not done:\n",
        "      action = env.action_space.sample()\n",
        "      state, reward, done, info = env.step(action)\n",
        "\n",
        "      if reward == -10:\n",
        "          penalties += 1\n",
        "      \n",
        "      if reward > 0:\n",
        "        rewards += 1\n",
        "\n",
        "      # Put each rendered frame into dict for animation\n",
        "      frames.append({\n",
        "          'frame': env.render(mode='ansi'),\n",
        "          'state': state,\n",
        "          'action': action,\n",
        "          'reward': reward\n",
        "          }\n",
        "      )\n",
        "\n",
        "      epochs += 1\n",
        "      \n",
        "      \n",
        "  print(\"Timesteps taken: {}\".format(epochs))\n",
        "  print(\"Penalties incurred: {}\".format(penalties))\n",
        "  return frames\n",
        "      "
      ],
      "metadata": {
        "id": "ftVyW-c_-Xu6"
      },
      "execution_count": 89,
      "outputs": []
    },
    {
      "cell_type": "markdown",
      "source": [
        "Frames"
      ],
      "metadata": {
        "id": "88xc11hjDqqj"
      }
    },
    {
      "cell_type": "code",
      "source": [
        "def Frames_pt(frames):\n",
        "  for i, frame in enumerate(frames):\n",
        "      clear_output(wait=True)\n",
        "      #print(frame['frame'].getvalue())\n",
        "      print(frame['frame'])\n",
        "      print(f\"Timestep: {i + 1}\")\n",
        "      print(f\"State: {frame['state']}\")\n",
        "      print(f\"Action: {frame['action']}\")\n",
        "      print(f\"Reward: {frame['reward']}\")\n",
        "      sleep(.1)"
      ],
      "metadata": {
        "id": "-r6H2WkpDr2c"
      },
      "execution_count": 90,
      "outputs": []
    },
    {
      "cell_type": "markdown",
      "source": [
        "Training"
      ],
      "metadata": {
        "id": "7Z5EW6VcSeUF"
      }
    },
    {
      "cell_type": "code",
      "source": [
        "def Qlearning_DECAY(alpha,gamma,epsilon,env):\n",
        "  q_table = np.zeros([env.observation_space.n, env.action_space.n]) #Initialize the q table\n",
        "  # For plotting metrics\n",
        "  all_epochs = []\n",
        "  all_penalties = []\n",
        "  decayrate=0.1\n",
        "  for i in range(1, 100001):\n",
        "      state = env.reset()\n",
        "\n",
        "      epochs, penalties, reward, = 0, 0, 0\n",
        "      done = False\n",
        "      if i%10000:\n",
        "        alpha = abs(alpha - (1/(1 + (decayrate * 100000))) * alpha)\n",
        "        gamma = abs(gamma - (1/(1 + (decayrate * 100000))) * gamma)\n",
        "        epsilon = abs(alpha - (1/(1 + (decayrate * 100000))) * epsilon)\n",
        "      while not done:\n",
        "          if random.uniform(0, 1) < epsilon:\n",
        "              action = env.action_space.sample() # Explore action space\n",
        "          else:\n",
        "              action = np.argmax(q_table[state]) # Exploit learned values\n",
        "\n",
        "          next_state, reward, done, info = env.step(action) \n",
        "          \n",
        "          old_value = q_table[state, action]\n",
        "          next_max = np.max(q_table[next_state])\n",
        "      \n",
        "          new_value = (1 - alpha) * old_value + alpha * (reward + gamma * next_max)\n",
        "          q_table[state, action] = new_value\n",
        "\n",
        "          if reward == -10:\n",
        "              penalties += 1\n",
        "\n",
        "          state = next_state\n",
        "          epochs += 1\n",
        "          \n",
        "      if i % 100 == 0:\n",
        "          clear_output(wait=True)\n",
        "          print(f\"Episode: {i}\")\n",
        "\n",
        "  \n",
        "  print(\"Training finished.\\n\")\n",
        "  return q_table\n"
      ],
      "metadata": {
        "id": "SmFdCGiIsOV1"
      },
      "execution_count": 91,
      "outputs": []
    },
    {
      "cell_type": "markdown",
      "source": [
        "Evaluation \n"
      ],
      "metadata": {
        "id": "GgiyQ9-eSg9n"
      }
    },
    {
      "cell_type": "code",
      "source": [
        "def evaluation(q_table,env):\n",
        "  total_epochs, total_penalties = 0, 0\n",
        "  episodes = 1000\n",
        "  total_reward=0\n",
        "  for _ in range(episodes):\n",
        "      state = env.reset()\n",
        "      epochs, penalties, reward = 0, 0, 0\n",
        "      \n",
        "      done = False\n",
        "      \n",
        "      while not done:\n",
        "          action = np.argmax(q_table[state])\n",
        "          state, reward, done, info = env.step(action)\n",
        "\n",
        "          if reward == -10:\n",
        "              penalties += 1\n",
        "\n",
        "          epochs += 1\n",
        "\n",
        "      total_penalties += penalties\n",
        "      total_reward+= reward\n",
        "      total_epochs += epochs\n",
        "\n",
        "  print(f\"Results after {episodes} episodes:\")\n",
        "  print(f\"Average timesteps per episode: {total_epochs / episodes}\")\n",
        "  print(f\"Average penalties per episode: {total_penalties / episodes}\")\n",
        "  print(f\"Average penalties per episode: {total_reward / episodes}\")\n",
        "  return total_reward"
      ],
      "metadata": {
        "id": "2yTz3lfRSi_4"
      },
      "execution_count": 92,
      "outputs": []
    },
    {
      "cell_type": "markdown",
      "source": [
        "Grid Search \n"
      ],
      "metadata": {
        "id": "jZewZd47sPAo"
      }
    },
    {
      "cell_type": "code",
      "source": [
        "def grid_search(env):\n",
        "  alpha_range = list(np.arange(0, 1, 0.5))\n",
        "  gama_range = list(np.arange(0, 1, 0.5))\n",
        "  epsilon_range = list(np.arange(0, 1, 0.5))\n",
        "  Max=0\n",
        "  best_Alpha=0\n",
        "  best_Gamma=0\n",
        "  best_Epsilon=0\n",
        "  for al in alpha_range:\n",
        "    for gama in gama_range:\n",
        "      for ep in epsilon_range:\n",
        "        q_table=Qlearning_DECAY(al,gama,ep,env)\n",
        "        total_reward=evaluation(q_table,env)\n",
        "        if total_reward>Max:\n",
        "          Max=total_reward\n",
        "          best_Alpha=al\n",
        "          best_Gamma=gama\n",
        "          best_Epsilon=ep\n",
        "\n",
        "  return best_Alpha,best_Gamma, best_Epsilon\n",
        "        \n"
      ],
      "metadata": {
        "id": "m_jUEqDWsRWA"
      },
      "execution_count": 93,
      "outputs": []
    },
    {
      "cell_type": "markdown",
      "source": [
        "Main"
      ],
      "metadata": {
        "id": "gO8D8z5P1fl_"
      }
    },
    {
      "cell_type": "code",
      "source": [
        "env=env_def (\"Taxi-v3\")\n",
        "frames = BrouteForce(env)\n",
        "Frames_pt\n",
        "q = Qlearning_DECAY(0.8,0.8,0.7,env)\n",
        "evaluation(q)\n",
        "best_Alpha,best_Gamma, best_Epsilon=grid_search(env)"
      ],
      "metadata": {
        "colab": {
          "base_uri": "https://localhost:8080/"
        },
        "id": "RFEEj_Wt1fFh",
        "outputId": "64a6821a-0a0f-452d-aef5-811d38302f1c"
      },
      "execution_count": null,
      "outputs": [
        {
          "output_type": "stream",
          "name": "stdout",
          "text": [
            "Episode: 89700\n"
          ]
        }
      ]
    },
    {
      "cell_type": "code",
      "source": [
        "\n"
      ],
      "metadata": {
        "id": "txNUgdnzdcRt"
      },
      "execution_count": null,
      "outputs": []
    }
  ]
}